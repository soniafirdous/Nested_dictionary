{
  "cells": [
    {
      "cell_type": "markdown",
      "metadata": {
        "id": "view-in-github",
        "colab_type": "text"
      },
      "source": [
        "<a href=\"https://colab.research.google.com/github/soniafirdous/Nested_dictionary/blob/main/Data_enteries.ipynb\" target=\"_parent\"><img src=\"https://colab.research.google.com/assets/colab-badge.svg\" alt=\"Open In Colab\"/></a>"
      ]
    },
    {
      "cell_type": "code",
      "execution_count": 1,
      "metadata": {
        "colab": {
          "base_uri": "https://localhost:8080/"
        },
        "id": "pTzB6eAnFfXx",
        "outputId": "040e9871-9cc2-4288-e592-03c8af0d5619"
      },
      "outputs": [
        {
          "output_type": "stream",
          "name": "stdout",
          "text": [
            "Collecting faker\n",
            "  Downloading faker-37.3.0-py3-none-any.whl.metadata (15 kB)\n",
            "Requirement already satisfied: tzdata in /usr/local/lib/python3.11/dist-packages (from faker) (2025.2)\n",
            "Downloading faker-37.3.0-py3-none-any.whl (1.9 MB)\n",
            "\u001b[2K   \u001b[90m━━━━━━━━━━━━━━━━━━━━━━━━━━━━━━━━━━━━━━━━\u001b[0m \u001b[32m1.9/1.9 MB\u001b[0m \u001b[31m16.4 MB/s\u001b[0m eta \u001b[36m0:00:00\u001b[0m\n",
            "\u001b[?25hInstalling collected packages: faker\n",
            "Successfully installed faker-37.3.0\n"
          ]
        }
      ],
      "source": [
        "pip install faker"
      ]
    },
    {
      "cell_type": "code",
      "execution_count": 2,
      "metadata": {
        "colab": {
          "base_uri": "https://localhost:8080/"
        },
        "id": "kzR7WZvqpZzf",
        "outputId": "d57063de-a766-42f2-80e7-baa2ca00e8cf"
      },
      "outputs": [
        {
          "output_type": "stream",
          "name": "stdout",
          "text": [
            "Enter the number of employees: 3\n",
            "\n",
            "Employee Information 1 :\n",
            "Employee ID : EM-1 \n",
            "name:Brandon Powers\n",
            "phone:001-541-972-9761x092\n",
            "email:normansteve@example.net\n",
            "address:812 Contreras Rapid Suite 947\n",
            "Port Crystalburgh, ME 92279\n",
            "Skill:['SQL']\n",
            "designation:Web Developer\n",
            "company:Facebook\n",
            "Salary:39982\n",
            "experience:[{'Company': 'Google', 'experience_Years': 10, 'Skill': ['JavaScript'], 'Designation': 'Data Analyst', 'Salary': 54575}, {'Company': 'Facebook', 'experience_Years': 7, 'Skill': ['Java'], 'Designation': 'Web Developer', 'Salary': 44373}]\n",
            "\n",
            "Employee Information 2 :\n",
            "Employee ID : EM-2 \n",
            "name:William Acevedo\n",
            "phone:(846)580-4143\n",
            "email:werneredward@example.org\n",
            "address:USNV Hardin\n",
            "FPO AA 71988\n",
            "Skill:['Python']\n",
            "designation:Software Engineer\n",
            "company:Facebook\n",
            "Salary:49100\n",
            "experience:[{'Company': 'Google', 'experience_Years': 7, 'Skill': ['CSS'], 'Designation': 'Software Engineer', 'Salary': 55455}, {'Company': 'Google', 'experience_Years': 10, 'Skill': ['Java'], 'Designation': 'Project Manager', 'Salary': 64814}]\n",
            "\n",
            "Employee Information 3 :\n",
            "Employee ID : EM-3 \n",
            "name:James Lewis\n",
            "phone:(851)710-1697x75719\n",
            "email:nicholasjohnson@example.net\n",
            "address:8910 Sara Mews\n",
            "Port Bryanmouth, AZ 34355\n",
            "Skill:['JavaScript']\n",
            "designation:Data Analyst\n",
            "company:Amazon\n",
            "Salary:40052\n",
            "experience:[{'Company': 'Google', 'experience_Years': 9, 'Skill': ['CSS'], 'Designation': 'Web Developer', 'Salary': 46697}, {'Company': 'Microsoft', 'experience_Years': 3, 'Skill': ['CSS'], 'Designation': 'Web Developer', 'Salary': 87590}]\n",
            "All employee list :  [{'name': 'Brandon Powers', 'phone': '001-541-972-9761x092', 'email': 'normansteve@example.net', 'address': '812 Contreras Rapid Suite 947\\nPort Crystalburgh, ME 92279', 'Skill': ['SQL'], 'designation': 'Web Developer', 'company': 'Facebook', 'Salary': 39982, 'experience': [{'Company': 'Google', 'experience_Years': 10, 'Skill': ['JavaScript'], 'Designation': 'Data Analyst', 'Salary': 54575}, {'Company': 'Facebook', 'experience_Years': 7, 'Skill': ['Java'], 'Designation': 'Web Developer', 'Salary': 44373}]}, {'name': 'William Acevedo', 'phone': '(846)580-4143', 'email': 'werneredward@example.org', 'address': 'USNV Hardin\\nFPO AA 71988', 'Skill': ['Python'], 'designation': 'Software Engineer', 'company': 'Facebook', 'Salary': 49100, 'experience': [{'Company': 'Google', 'experience_Years': 7, 'Skill': ['CSS'], 'Designation': 'Software Engineer', 'Salary': 55455}, {'Company': 'Google', 'experience_Years': 10, 'Skill': ['Java'], 'Designation': 'Project Manager', 'Salary': 64814}]}, {'name': 'James Lewis', 'phone': '(851)710-1697x75719', 'email': 'nicholasjohnson@example.net', 'address': '8910 Sara Mews\\nPort Bryanmouth, AZ 34355', 'Skill': ['JavaScript'], 'designation': 'Data Analyst', 'company': 'Amazon', 'Salary': 40052, 'experience': [{'Company': 'Google', 'experience_Years': 9, 'Skill': ['CSS'], 'Designation': 'Web Developer', 'Salary': 46697}, {'Company': 'Microsoft', 'experience_Years': 3, 'Skill': ['CSS'], 'Designation': 'Web Developer', 'Salary': 87590}]}]\n"
          ]
        }
      ],
      "source": [
        "\n",
        "from faker import Faker\n",
        "import random\n",
        "#Faker: Generates fake names, phone numbers, emails, etc.\n",
        "\n",
        "# random: Helps randomly choose skills, designations, etc., from custom lists.\n",
        "\n",
        "\n",
        "fake=Faker()# creates a Faker object. You’ll use fake to generate fake data.\n",
        "\n",
        "employee_information={}\n",
        "\n",
        "skills = ['Python', 'Java', 'C++', 'SQL', 'JavaScript', 'HTML', 'CSS']\n",
        "designations = ['Software Engineer', 'Data Analyst', 'Web Developer', 'Project Manager']\n",
        "companies = ['Google', 'Amazon', 'Microsoft', 'Facebook', 'Apple']\n",
        "\n",
        "\n",
        "num=int(input(\"Enter the number of employees: \"))\n",
        "\n",
        "\n",
        "for i in range(num):\n",
        "  employee_ID=f\"EM-{i+1}\"\n",
        "  employee_information[employee_ID]={\"name\":fake.name(),\n",
        "                                      \"phone\":fake.phone_number(),\n",
        "                                      \"email\":fake.email(),\n",
        "                                      \"address\":fake.address(),\n",
        "                                      \"Skill\":[random.choice(skills)],\n",
        "                                      \"designation\":random.choice(designations),\n",
        "                                      \"company\":random.choice(companies),\n",
        "                                      \"Salary\":random.randint(20000,50000),\n",
        "                                       \"experience\":[{\"Company\": random.choice(companies),\n",
        "                                                   \"experience_Years\": random.randint(1, 10),\n",
        "                                                   \"Skill\":[ random.choice(skills)],\n",
        "                                                   \"Designation\": random.choice(designations),\n",
        "                                                   \"Salary\": random.randint(30000, 100000)},\n",
        "\n",
        "                                                   {\"Company\": random.choice(companies),\n",
        "                                                   \"experience_Years\": random.randint(1, 10),\n",
        "                                                   \"Skill\":[ random.choice(skills)],\n",
        "                                                   \"Designation\": random.choice(designations),\n",
        "                                                   \"Salary\": random.randint(30000, 100000)  }]\n",
        "                                                }\n",
        "for i,( employee_ID,info) in enumerate( employee_information.items(),1):\n",
        "  print(f\"\\nEmployee Information {i} :\")\n",
        "  print(f\"Employee ID : {employee_ID} \")\n",
        "  for key ,value in info.items():\n",
        "    print(f\"{key}:{value}\")\n",
        "\n",
        "employees_list=[employee_information[employee_ID] for employee_ID in employee_information]\n",
        "print(\"All employee list : \",employees_list)\n",
        "\n",
        "\n"
      ]
    },
    {
      "cell_type": "code",
      "execution_count": 43,
      "metadata": {
        "colab": {
          "base_uri": "https://localhost:8080/",
          "height": 35
        },
        "id": "emiUDOLpgcG_",
        "outputId": "47b70a97-b1a3-4bfe-d59d-8a2010fe85dd"
      },
      "outputs": [
        {
          "output_type": "execute_result",
          "data": {
            "text/plain": [
              "'Web Developer'"
            ],
            "application/vnd.google.colaboratory.intrinsic+json": {
              "type": "string"
            }
          },
          "metadata": {},
          "execution_count": 43
        }
      ],
      "source": [
        "employees_list[0][\"experience\"][1][\"Designation\"]"
      ]
    },
    {
      "cell_type": "code",
      "execution_count": 44,
      "metadata": {
        "colab": {
          "base_uri": "https://localhost:8080/",
          "height": 35
        },
        "id": "R-_DSpUV1UBg",
        "outputId": "6f9a8a93-7585-4d96-cde4-0f8cb80528cf"
      },
      "outputs": [
        {
          "output_type": "execute_result",
          "data": {
            "text/plain": [
              "'Software Engineer'"
            ],
            "application/vnd.google.colaboratory.intrinsic+json": {
              "type": "string"
            }
          },
          "metadata": {},
          "execution_count": 44
        }
      ],
      "source": [
        "employees_list[2][\"experience\"][1][\"Designation\"]"
      ]
    },
    {
      "cell_type": "code",
      "execution_count": 45,
      "metadata": {
        "colab": {
          "base_uri": "https://localhost:8080/"
        },
        "id": "6Ii9Q3KY18By",
        "outputId": "2070d079-c409-4db9-93f8-0ad861f332d2"
      },
      "outputs": [
        {
          "output_type": "execute_result",
          "data": {
            "text/plain": [
              "54697"
            ]
          },
          "metadata": {},
          "execution_count": 45
        }
      ],
      "source": [
        "employees_list[2][\"experience\"][1][\"Salary\"]"
      ]
    },
    {
      "cell_type": "code",
      "execution_count": 46,
      "metadata": {
        "colab": {
          "base_uri": "https://localhost:8080/"
        },
        "id": "Z7tOvlDK2jdM",
        "outputId": "902beed9-8813-450c-cde6-2cbc1cfd1032"
      },
      "outputs": [
        {
          "output_type": "execute_result",
          "data": {
            "text/plain": [
              "59893"
            ]
          },
          "metadata": {},
          "execution_count": 46
        }
      ],
      "source": [
        "employees_list[2][\"experience\"][0][\"Salary\"]"
      ]
    },
    {
      "cell_type": "code",
      "execution_count": 48,
      "metadata": {
        "colab": {
          "base_uri": "https://localhost:8080/"
        },
        "id": "YL-d647do3dt",
        "outputId": "96f8d433-f4c4-4a48-e7c5-f271c95d5405"
      },
      "outputs": [
        {
          "output_type": "stream",
          "name": "stdout",
          "text": [
            "['Python', 'cooking']\n"
          ]
        }
      ],
      "source": [
        "employees_list[2][\"experience\"][1][\"Skill\"].append(\"cooking\")\n",
        "print(employees_list[2][\"experience\"][1][\"Skill\"])"
      ]
    },
    {
      "cell_type": "code",
      "execution_count": 49,
      "metadata": {
        "colab": {
          "base_uri": "https://localhost:8080/"
        },
        "id": "LXRO_G94kQb9",
        "outputId": "a54926db-9d5e-497c-c8c7-0b58cc2dde84"
      },
      "outputs": [
        {
          "output_type": "stream",
          "name": "stdout",
          "text": [
            "['Python']\n"
          ]
        }
      ],
      "source": [
        "employees_list[2][\"experience\"][1][\"Skill\"].remove(\"cooking\")\n",
        "print(employees_list[2][\"experience\"][1][\"Skill\"])"
      ]
    },
    {
      "cell_type": "code",
      "execution_count": 9,
      "metadata": {
        "id": "pMBC2HSmRlKN"
      },
      "outputs": [],
      "source": []
    },
    {
      "cell_type": "code",
      "execution_count": 50,
      "metadata": {
        "colab": {
          "base_uri": "https://localhost:8080/"
        },
        "id": "DMhCG9h8k3xo",
        "outputId": "bee295cb-546f-4200-d566-5b69f2ba0043"
      },
      "outputs": [
        {
          "output_type": "stream",
          "name": "stdout",
          "text": [
            "9\n",
            "5\n",
            "14\n"
          ]
        }
      ],
      "source": [
        "employees_list[2][\"experience\"][1][\"experience_Years\"]+=5\n",
        "employees_list[2][\"experience\"][0][\"experience_Years\"]+=2\n",
        "print(employees_list[2][\"experience\"][1][\"experience_Years\"])\n",
        "print(employees_list[2][\"experience\"][0][\"experience_Years\"])\n",
        "total_experience_years=employees_list[2][\"experience\"][1][\"experience_Years\"]+ employees_list[2][\"experience\"][0][\"experience_Years\"]\n",
        "print(total_experience_years)"
      ]
    },
    {
      "cell_type": "code",
      "execution_count": 51,
      "metadata": {
        "colab": {
          "base_uri": "https://localhost:8080/"
        },
        "collapsed": true,
        "id": "Qc9JGhqPWjt2",
        "outputId": "69c19f3f-e893-403f-cad4-e096825ab8d5"
      },
      "outputs": [
        {
          "output_type": "stream",
          "name": "stdout",
          "text": [
            "Enter the employee ID: EM-1\n",
            "Employee found:\n",
            "James Mccormick\n",
            "experience for company :1\n",
            "Company : Apple\n",
            "experience_Years : 4\n",
            "Skill : ['JavaScript']\n",
            "Designation : Web Developer\n",
            "Salary : 30795\n",
            "experience for company :2\n",
            "Company : Apple\n",
            "experience_Years : 4\n",
            "Skill : ['Java']\n",
            "Designation : Web Developer\n",
            "Salary : 64417\n"
          ]
        }
      ],
      "source": [
        "employee_ID=input(\"Enter the employee ID: \")\n",
        "if employee_ID in employee_information:\n",
        "  print(\"Employee found:\")\n",
        "  print(employee_information[employee_ID][\"name\"])\n",
        "  for i ,exp in enumerate(employee_information[employee_ID][\"experience\"],1):\n",
        "    print(f\"experience for company :{i}\")\n",
        "    for key, value in exp.items():\n",
        "      print(f\"{key} : {value}\")\n",
        "else:\n",
        "  print(\"Employee not found\")"
      ]
    },
    {
      "cell_type": "code",
      "execution_count": 52,
      "metadata": {
        "colab": {
          "base_uri": "https://localhost:8080/"
        },
        "collapsed": true,
        "id": "FJLqP2ZFc0E4",
        "outputId": "6edcc9f0-4141-4dbd-ed1d-8595197b99d9"
      },
      "outputs": [
        {
          "output_type": "stream",
          "name": "stdout",
          "text": [
            "enter  ID :EM-1\n",
            "['JavaScript']\n",
            "['Java']\n",
            "all skill:  ['Java'] ['Python']\n"
          ]
        }
      ],
      "source": [
        "employee_ID=input(\"enter  ID :\")\n",
        "if employee_ID in employee_information:\n",
        "  for exp in (employee_information[employee_ID][\"experience\"]):\n",
        "    print(exp[\"Skill\"])\n",
        "print(\"all skill: \",exp[\"Skill\"],employee_information[employee_ID][\"Skill\"])"
      ]
    },
    {
      "cell_type": "code",
      "source": [
        "employee_ID=input(\"enter  ID :\")\n",
        "if employee_ID in employee_information:\n",
        "  for exp in (employee_information[employee_ID][\"experience\"]):\n",
        "    print(exp[\"Designation\"])\n",
        "print(\"all designation: \",exp[\"Designation\"],employee_information[employee_ID][\"designation\"])"
      ],
      "metadata": {
        "id": "-24xO-DPO9xd",
        "colab": {
          "base_uri": "https://localhost:8080/"
        },
        "outputId": "d56c0c02-9c6c-4ba6-b61c-6ca3f6cddce5"
      },
      "execution_count": 53,
      "outputs": [
        {
          "output_type": "stream",
          "name": "stdout",
          "text": [
            "enter  ID :EM-1\n",
            "Web Developer\n",
            "Web Developer\n",
            "all designation:  Web Developer Project Manager\n"
          ]
        }
      ]
    },
    {
      "cell_type": "code",
      "source": [
        "employee_ID=input(\"enter ID :\")\n",
        "if employee_ID in employee_information:\n",
        "  for exp in employee_information[employee_ID][\"experience\"]:\n",
        "    print(exp[\"Salary\"])\n",
        "print(\"all salary: \",exp[\"Salary\"],employee_information[employee_ID][\"salary\"])"
      ],
      "metadata": {
        "id": "6PZHwENWO-I2",
        "colab": {
          "base_uri": "https://localhost:8080/"
        },
        "outputId": "32f95185-9f3c-45e8-d1d5-be7a8b02b567"
      },
      "execution_count": 22,
      "outputs": [
        {
          "output_type": "stream",
          "name": "stdout",
          "text": [
            "enter ID :EM-1\n",
            "34088\n",
            "63664\n",
            "all salary:  63664 27159\n"
          ]
        }
      ]
    },
    {
      "cell_type": "code",
      "source": [
        "employee_ID=input(\"enter ID :\")\n",
        "if employee_ID in employee_information:\n",
        "  for  exp in employee_information[employee_ID][\"experience\"]:\n",
        "    print(\"company salary:\",exp[\"Salary\"])\n",
        "  print(\"current_slary:\",employee_information[employee_ID][\"Salary\"])\n",
        "#   for exp in employee_information[employee_ID][\"experience\"]:\n",
        "#     total_exp_salary=sum(exp[\"Salary\"])\n",
        "# total_salary=employee_information[employee_ID][\"Salary\"]+exp[\"Salary\"]\n",
        "# print(\"total salary:\",total_salary)"
      ],
      "metadata": {
        "colab": {
          "base_uri": "https://localhost:8080/"
        },
        "id": "LMxeuFsKyzgl",
        "outputId": "f714a703-b68f-4608-eeb7-d06b40c756f4"
      },
      "execution_count": 19,
      "outputs": [
        {
          "output_type": "stream",
          "name": "stdout",
          "text": [
            "enter ID :EM-1\n",
            "company salary: 54575\n",
            "company salary: 44373\n",
            "current_slary: 39982\n"
          ]
        }
      ]
    },
    {
      "cell_type": "code",
      "source": [
        "employee_ID=input(\"enter ID :\")\n",
        "if employee_ID in employee_information:\n",
        "  total_exp_salary=0\n",
        "  print(\"for companies salary\")\n",
        "  for exp in employee_information[employee_ID]['experience']:\n",
        "    print(\"company salary:\",exp[\"Salary\"])\n",
        "    total_exp_salary+=exp[\"Salary\"]\n",
        "  current_salary=employee_information[employee_ID].get(\"Salary\")\n",
        "  print(\"current salary: \",current_salary)\n",
        "  total_salary=total_exp_salary + current_salary\n",
        "  print(\"total salary (experience+current)\",total_salary)"
      ],
      "metadata": {
        "colab": {
          "base_uri": "https://localhost:8080/"
        },
        "id": "BlhTJAnAyzT1",
        "outputId": "d759779a-f8b7-4b15-9861-6bd870dbf88a"
      },
      "execution_count": 22,
      "outputs": [
        {
          "output_type": "stream",
          "name": "stdout",
          "text": [
            "enter ID :EM-1\n",
            "for companies salary\n",
            "company salary: 54575\n",
            "company salary: 44373\n",
            "current salary:  39982\n",
            "total salary (experience+current) 138930\n"
          ]
        }
      ]
    },
    {
      "cell_type": "code",
      "source": [
        "employee_ID=input(\"enter ID:\")\n",
        "\n",
        "if employee_ID in employee_information:\n",
        "  print(\"Employee found:\")\n",
        "  print(employee_information[employee_ID][\"name\"])"
      ],
      "metadata": {
        "colab": {
          "base_uri": "https://localhost:8080/"
        },
        "id": "igJf-LHX-yoS",
        "outputId": "4971c4d5-81a6-4276-e657-0c8918041127"
      },
      "execution_count": 23,
      "outputs": [
        {
          "output_type": "stream",
          "name": "stdout",
          "text": [
            "enter ID:EM-1\n",
            "Employee found:\n",
            "Brandon Powers\n"
          ]
        }
      ]
    },
    {
      "cell_type": "code",
      "source": [
        "employee_ID=input(\"enter ID:\")\n",
        "good_salary=[]\n",
        "bad_salary=[]\n",
        "if employee_ID in employee_information:\n",
        "  if employee_information[employee_ID][\"Salary\"]>40000:\n",
        "    good_salary.append(employee_information[employee_ID][\"Salary\"])\n",
        "  else:\n",
        "    bad_salary.append(employee_information[employee_ID][\"Salary\"])\n",
        "\n",
        "  for exp in employee_information[employee_ID][\"experience\"]:\n",
        "    if exp[\"Salary\"]>5000:\n",
        "      good_salary.append(exp[\"Salary\"])\n",
        "    else:\n",
        "      bad_salary.append(exp[\"Salary\"])\n",
        "      print(\"no good salary\")\n",
        "print(\"good salary :\",good_salary)\n",
        "print(\"bad salary :\",bad_salary)"
      ],
      "metadata": {
        "colab": {
          "base_uri": "https://localhost:8080/"
        },
        "id": "kLRXIeWm_AGO",
        "outputId": "c1503644-7f5b-4f67-c5f5-403ec857074e"
      },
      "execution_count": 35,
      "outputs": [
        {
          "output_type": "stream",
          "name": "stdout",
          "text": [
            "enter ID:EM-1\n",
            "good salary : [54575, 44373]\n",
            "bad salary : [39982]\n"
          ]
        }
      ]
    }
  ],
  "metadata": {
    "colab": {
      "provenance": [],
      "authorship_tag": "ABX9TyMjcY6ClUDk8z8t3oXAlJhy",
      "include_colab_link": true
    },
    "kernelspec": {
      "display_name": "Python 3",
      "name": "python3"
    },
    "language_info": {
      "name": "python"
    }
  },
  "nbformat": 4,
  "nbformat_minor": 0
}